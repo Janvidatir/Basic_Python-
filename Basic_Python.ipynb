{
 "cells": [
  {
   "cell_type": "code",
   "execution_count": 1,
   "id": "2fcd518c",
   "metadata": {},
   "outputs": [
    {
     "name": "stdout",
     "output_type": "stream",
     "text": [
      "hello world\n"
     ]
    }
   ],
   "source": [
    "print(\"hello world\")"
   ]
  },
  {
   "cell_type": "code",
   "execution_count": 2,
   "id": "f165fc6d",
   "metadata": {},
   "outputs": [
    {
     "name": "stdout",
     "output_type": "stream",
     "text": [
      "Janvi Datir\n"
     ]
    }
   ],
   "source": [
    "print(\"Janvi Datir\")"
   ]
  },
  {
   "cell_type": "markdown",
   "id": "ec4bfeb9",
   "metadata": {},
   "source": [
    "### variables"
   ]
  },
  {
   "cell_type": "code",
   "execution_count": 3,
   "id": "edad57b4",
   "metadata": {},
   "outputs": [],
   "source": [
    "name=\"Janvi\"\n",
    "age=20\n",
    "Income=4000000\n"
   ]
  },
  {
   "cell_type": "code",
   "execution_count": 4,
   "id": "d23500f2",
   "metadata": {},
   "outputs": [
    {
     "name": "stdout",
     "output_type": "stream",
     "text": [
      "Janvi\n",
      "20\n",
      "4000000\n"
     ]
    }
   ],
   "source": [
    "print(name)\n",
    "print(age)\n",
    "print(Income)"
   ]
  },
  {
   "cell_type": "code",
   "execution_count": 5,
   "id": "bd4d32a6",
   "metadata": {},
   "outputs": [
    {
     "data": {
      "text/plain": [
       "('janvi', 'arpita')"
      ]
     },
     "execution_count": 5,
     "metadata": {},
     "output_type": "execute_result"
    }
   ],
   "source": [
    "name_list=\"janvi\",\"arpita\"\n",
    "name_list\n"
   ]
  },
  {
   "cell_type": "code",
   "execution_count": 1,
   "id": "6be46c5f",
   "metadata": {},
   "outputs": [
    {
     "data": {
      "text/plain": [
       "[1, 2, 3, 8, -2, 'hello', 6, 1, 3, 1, 1, 1]"
      ]
     },
     "execution_count": 1,
     "metadata": {},
     "output_type": "execute_result"
    }
   ],
   "source": [
    "sample_list=[1,2,3,8,-2,\"hello\",6,1,3,1,1,1]\n",
    "sample_list"
   ]
  },
  {
   "cell_type": "code",
   "execution_count": 8,
   "id": "8dfdb8db",
   "metadata": {},
   "outputs": [
    {
     "data": {
      "text/plain": [
       "list"
      ]
     },
     "execution_count": 8,
     "metadata": {},
     "output_type": "execute_result"
    }
   ],
   "source": [
    "type(sample_list)"
   ]
  },
  {
   "cell_type": "code",
   "execution_count": 2,
   "id": "cb71eca8",
   "metadata": {},
   "outputs": [
    {
     "data": {
      "text/plain": [
       "'hello'"
      ]
     },
     "execution_count": 2,
     "metadata": {},
     "output_type": "execute_result"
    }
   ],
   "source": [
    "sample_list[5]"
   ]
  },
  {
   "cell_type": "code",
   "execution_count": 3,
   "id": "5604081e",
   "metadata": {},
   "outputs": [
    {
     "data": {
      "text/plain": [
       "1"
      ]
     },
     "execution_count": 3,
     "metadata": {},
     "output_type": "execute_result"
    }
   ],
   "source": [
    "sample_list [10]"
   ]
  },
  {
   "cell_type": "code",
   "execution_count": 4,
   "id": "614fe16b",
   "metadata": {},
   "outputs": [
    {
     "data": {
      "text/plain": [
       "1"
      ]
     },
     "execution_count": 4,
     "metadata": {},
     "output_type": "execute_result"
    }
   ],
   "source": [
    " sample_list[-3]"
   ]
  },
  {
   "cell_type": "code",
   "execution_count": 6,
   "id": "757ebe09",
   "metadata": {},
   "outputs": [
    {
     "data": {
      "text/plain": [
       "[100, 2, 3, 8, -2, 'hello', 6, 1, 3, 1, 1, 1]"
      ]
     },
     "execution_count": 6,
     "metadata": {},
     "output_type": "execute_result"
    }
   ],
   "source": [
    "sample_list[0]=100\n",
    "sample_list"
   ]
  },
  {
   "cell_type": "code",
   "execution_count": 7,
   "id": "6487c0ea",
   "metadata": {},
   "outputs": [
    {
     "data": {
      "text/plain": [
       "[100, 2, 3, 400, -2, 'hello', 6, 1, 3, 1, 1, 1]"
      ]
     },
     "execution_count": 7,
     "metadata": {},
     "output_type": "execute_result"
    }
   ],
   "source": [
    "sample_list[3]=400\n",
    "sample_list"
   ]
  },
  {
   "cell_type": "markdown",
   "id": "ecf09fd7",
   "metadata": {},
   "source": [
    "### tuple"
   ]
  },
  {
   "cell_type": "code",
   "execution_count": 12,
   "id": "8c3cc205",
   "metadata": {},
   "outputs": [
    {
     "data": {
      "text/plain": [
       "(1, 2, 3, 4, 6, 7, 'hello')"
      ]
     },
     "execution_count": 12,
     "metadata": {},
     "output_type": "execute_result"
    }
   ],
   "source": [
    "sample_tuple=(1,2,3,4,6,7,\"hello\")\n",
    "sample_tuple"
   ]
  },
  {
   "cell_type": "code",
   "execution_count": 13,
   "id": "c3b4cc65",
   "metadata": {},
   "outputs": [
    {
     "data": {
      "text/plain": [
       "tuple"
      ]
     },
     "execution_count": 13,
     "metadata": {},
     "output_type": "execute_result"
    }
   ],
   "source": [
    "type(sample_tuple)"
   ]
  },
  {
   "cell_type": "code",
   "execution_count": 14,
   "id": "4c7d4966",
   "metadata": {},
   "outputs": [
    {
     "data": {
      "text/plain": [
       "(5, 4, 6, 8.9)"
      ]
     },
     "execution_count": 14,
     "metadata": {},
     "output_type": "execute_result"
    }
   ],
   "source": [
    "sample_tuple2=5,4,6,8.9\n",
    "sample_tuple2"
   ]
  },
  {
   "cell_type": "code",
   "execution_count": 15,
   "id": "14c26da9",
   "metadata": {},
   "outputs": [
    {
     "data": {
      "text/plain": [
       "tuple"
      ]
     },
     "execution_count": 15,
     "metadata": {},
     "output_type": "execute_result"
    }
   ],
   "source": [
    "type(sample_tuple2)"
   ]
  },
  {
   "cell_type": "code",
   "execution_count": 17,
   "id": "774fd946",
   "metadata": {},
   "outputs": [
    {
     "name": "stdout",
     "output_type": "stream",
     "text": [
      "(1, 2, 3, 4, 6, 7, 'hello')\n",
      "(5, 4, 6, 8.9)\n"
     ]
    }
   ],
   "source": [
    "print(sample_tuple)\n",
    "print(sample_tuple2)"
   ]
  },
  {
   "cell_type": "code",
   "execution_count": 19,
   "id": "0c9fc30f",
   "metadata": {},
   "outputs": [
    {
     "data": {
      "text/plain": [
       "2"
      ]
     },
     "execution_count": 19,
     "metadata": {},
     "output_type": "execute_result"
    }
   ],
   "source": [
    "sample_tuple[1]"
   ]
  },
  {
   "cell_type": "markdown",
   "id": "3ccc12f2",
   "metadata": {},
   "source": [
    "### Dictionary"
   ]
  },
  {
   "cell_type": "code",
   "execution_count": 22,
   "id": "249cefb6",
   "metadata": {},
   "outputs": [],
   "source": [
    "dict_1={'name':\"janvi\",\"hobbies\":[\"painting\",\"singing\",\"cooking\"]}\n",
    "                               \n",
    "                               \n",
    "                               \n",
    "                               \n",
    "    "
   ]
  },
  {
   "cell_type": "code",
   "execution_count": 23,
   "id": "65dfa25f",
   "metadata": {},
   "outputs": [
    {
     "data": {
      "text/plain": [
       "{'name': 'janvi', 'hobbies': ['painting', 'singing', 'cooking']}"
      ]
     },
     "execution_count": 23,
     "metadata": {},
     "output_type": "execute_result"
    }
   ],
   "source": [
    "dict_1"
   ]
  },
  {
   "cell_type": "code",
   "execution_count": 25,
   "id": "d90035ce",
   "metadata": {},
   "outputs": [
    {
     "data": {
      "text/plain": [
       "dict_keys(['name', 'hobbies'])"
      ]
     },
     "execution_count": 25,
     "metadata": {},
     "output_type": "execute_result"
    }
   ],
   "source": [
    "dict_1.keys()"
   ]
  },
  {
   "cell_type": "code",
   "execution_count": 26,
   "id": "b71b49a5",
   "metadata": {},
   "outputs": [
    {
     "data": {
      "text/plain": [
       "dict_values(['janvi', ['painting', 'singing', 'cooking']])"
      ]
     },
     "execution_count": 26,
     "metadata": {},
     "output_type": "execute_result"
    }
   ],
   "source": [
    "dict_1.values()"
   ]
  },
  {
   "cell_type": "code",
   "execution_count": 27,
   "id": "c0ca5a29",
   "metadata": {},
   "outputs": [],
   "source": [
    "dict_1['names']=\"sakshi\""
   ]
  },
  {
   "cell_type": "code",
   "execution_count": 28,
   "id": "65dd9764",
   "metadata": {},
   "outputs": [],
   "source": [
    "del dict_1[\"name\"]"
   ]
  },
  {
   "cell_type": "code",
   "execution_count": 29,
   "id": "e8f283da",
   "metadata": {},
   "outputs": [
    {
     "data": {
      "text/plain": [
       "{'hobbies': ['painting', 'singing', 'cooking'], 'names': 'sakshi'}"
      ]
     },
     "execution_count": 29,
     "metadata": {},
     "output_type": "execute_result"
    }
   ],
   "source": [
    "dict_1"
   ]
  },
  {
   "cell_type": "markdown",
   "id": "0175117c",
   "metadata": {},
   "source": [
    "### set"
   ]
  },
  {
   "cell_type": "code",
   "execution_count": 31,
   "id": "b8710c36",
   "metadata": {},
   "outputs": [],
   "source": [
    "sample_set={1,3,2,4,5,7,\"hello\", \"ds\" ,-2,11.4,21.5}\n"
   ]
  },
  {
   "cell_type": "code",
   "execution_count": 32,
   "id": "84fdf55b",
   "metadata": {},
   "outputs": [
    {
     "data": {
      "text/plain": [
       "{-2, 1, 11.4, 2, 21.5, 3, 4, 5, 7, 'ds', 'hello'}"
      ]
     },
     "execution_count": 32,
     "metadata": {},
     "output_type": "execute_result"
    }
   ],
   "source": [
    "sample_set"
   ]
  },
  {
   "cell_type": "code",
   "execution_count": 33,
   "id": "30455af8",
   "metadata": {},
   "outputs": [],
   "source": [
    "sample_set.add(100)"
   ]
  },
  {
   "cell_type": "code",
   "execution_count": 34,
   "id": "af2af042",
   "metadata": {},
   "outputs": [
    {
     "data": {
      "text/plain": [
       "{-2, 1, 100, 11.4, 2, 21.5, 3, 4, 5, 7, 'ds', 'hello'}"
      ]
     },
     "execution_count": 34,
     "metadata": {},
     "output_type": "execute_result"
    }
   ],
   "source": [
    "sample_set"
   ]
  },
  {
   "cell_type": "code",
   "execution_count": 36,
   "id": "d2e0a257",
   "metadata": {},
   "outputs": [],
   "source": [
    "sample_set.remove(-2)"
   ]
  },
  {
   "cell_type": "code",
   "execution_count": 37,
   "id": "587b5cfc",
   "metadata": {},
   "outputs": [
    {
     "data": {
      "text/plain": [
       "{1, 100, 11.4, 2, 21.5, 3, 4, 5, 7, 'ds', 'hello'}"
      ]
     },
     "execution_count": 37,
     "metadata": {},
     "output_type": "execute_result"
    }
   ],
   "source": [
    "sample_set"
   ]
  }
 ],
 "metadata": {
  "kernelspec": {
   "display_name": "Python 3 (ipykernel)",
   "language": "python",
   "name": "python3"
  },
  "language_info": {
   "codemirror_mode": {
    "name": "ipython",
    "version": 3
   },
   "file_extension": ".py",
   "mimetype": "text/x-python",
   "name": "python",
   "nbconvert_exporter": "python",
   "pygments_lexer": "ipython3",
   "version": "3.11.5"
  }
 },
 "nbformat": 4,
 "nbformat_minor": 5
}
